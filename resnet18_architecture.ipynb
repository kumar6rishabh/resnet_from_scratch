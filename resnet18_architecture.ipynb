{
  "nbformat": 4,
  "nbformat_minor": 0,
  "metadata": {
    "colab": {
      "provenance": [],
      "collapsed_sections": [],
      "authorship_tag": "ABX9TyNrZqWjU1igoLe7TRKxAfLd",
      "include_colab_link": true
    },
    "kernelspec": {
      "name": "python3",
      "display_name": "Python 3"
    },
    "language_info": {
      "name": "python"
    }
  },
  "cells": [
    {
      "cell_type": "markdown",
      "metadata": {
        "id": "view-in-github",
        "colab_type": "text"
      },
      "source": [
        "<a href=\"https://colab.research.google.com/github/kumar6rishabh/resnet_from_scratch/blob/main/resnet18_architecture.ipynb\" target=\"_parent\"><img src=\"https://colab.research.google.com/assets/colab-badge.svg\" alt=\"Open In Colab\"/></a>"
      ]
    },
    {
      "cell_type": "code",
      "execution_count": null,
      "metadata": {
        "id": "Ehj2lN0V-_qW"
      },
      "outputs": [],
      "source": [
        "#"
      ]
    },
    {
      "cell_type": "code",
      "source": [
        "import torch\n",
        "import torch.nn as nn\n",
        "import torch.nn.functional as F"
      ],
      "metadata": {
        "id": "KEywG7IU_S62"
      },
      "execution_count": null,
      "outputs": []
    },
    {
      "cell_type": "code",
      "source": [
        "def get_residual_block(num_fils , first_block = False , first_layer = False):\n",
        "  ret_stride = 2 if first_block else 1\n",
        "  in_fils = int(num_fils / 2) if first_block else num_fils\n",
        "  if first_block and first_layer:\n",
        "    ret_stride = 1\n",
        "    in_fils = num_fils\n",
        "  block = nn.Sequential(nn.Conv2d(in_fils , num_fils , kernel_size = 3 , stride = ret_stride , padding = 1) , \n",
        "  nn.ReLU(inplace = True) , \n",
        "  nn.Conv2d(num_fils, num_fils , kernel_size = 3 , stride = 1 , padding = 1))\n",
        "  return block"
      ],
      "metadata": {
        "id": "mtgbgWdjAl7Z"
      },
      "execution_count": null,
      "outputs": []
    },
    {
      "cell_type": "code",
      "source": [
        "class Net(nn.Module):\n",
        "  def __init__(self):\n",
        "    super(Net , self).__init__()\n",
        "    self.initial_conv = nn.Conv2d(3 , 64 , kernel_size = 7 , stride = 2 , padding = 1)\n",
        "    self.relu = nn.ReLU(inplace = True)\n",
        "    self.initial_pool = nn.MaxPool2d(kernel_size = 2)\n",
        "    self.avgpool = nn.AvgPool2d(kernel_size = (7 , 7))\n",
        "    self.fc = nn.Linear(512 , 1000)\n",
        "  def forward(self , x):\n",
        "    x = self.initial_conv(x)\n",
        "    x = self.relu(x)\n",
        "    x = self.initial_pool(x)\n",
        "    x = self.make_layer(x , 3 , 64 , True)\n",
        "    x = self.make_layer(x , 4 , 128)\n",
        "    x = self.make_layer(x , 6 , 256)\n",
        "    x = self.make_layer(x , 3 , 512)\n",
        "    x = self.avgpool(x)\n",
        "    x = torch.flatten(x , 1)\n",
        "    x = self.fc(x)\n",
        "    return x\n",
        "\n",
        "    \n",
        "  def make_layer(self , inp , num_blocks , num_fils , first_layer = False):\n",
        "    back = inp\n",
        "    if first_layer:\n",
        "      x = get_residual_block(num_fils , True , True)(inp)\n",
        "    else:\n",
        "      back = nn.Conv2d(int(num_fils / 2) , num_fils , kernel_size = 1 , stride = 2 , padding = 0)(inp)\n",
        "      x = get_residual_block(num_fils , True)(inp)\n",
        "    back += x #skip connection\n",
        "    back = F.relu(back)\n",
        "    for _ in range(num_blocks - 1):\n",
        "      x = get_residual_block(num_fils)(back)\n",
        "      back += x\n",
        "      back = F.relu(back)\n",
        "    return back"
      ],
      "metadata": {
        "id": "UBI2GDWC_VEx"
      },
      "execution_count": null,
      "outputs": []
    },
    {
      "cell_type": "code",
      "source": [
        "model = Net()"
      ],
      "metadata": {
        "id": "TDLDRWhkAEPF"
      },
      "execution_count": null,
      "outputs": []
    },
    {
      "cell_type": "code",
      "source": [
        "img = torch.randn(5 , 3 , 224 , 224)"
      ],
      "metadata": {
        "id": "LLxedojQAGSl"
      },
      "execution_count": null,
      "outputs": []
    },
    {
      "cell_type": "code",
      "source": [
        "rt = model(img)"
      ],
      "metadata": {
        "id": "QotZkqYSit5I"
      },
      "execution_count": null,
      "outputs": []
    },
    {
      "cell_type": "code",
      "source": [
        "rt.shape"
      ],
      "metadata": {
        "colab": {
          "base_uri": "https://localhost:8080/"
        },
        "id": "xcUVHSFsi4IJ",
        "outputId": "238cb1de-796d-4a67-b12a-9dbea839e90e"
      },
      "execution_count": null,
      "outputs": [
        {
          "output_type": "execute_result",
          "data": {
            "text/plain": [
              "torch.Size([5, 1000])"
            ]
          },
          "metadata": {},
          "execution_count": 100
        }
      ]
    },
    {
      "cell_type": "code",
      "source": [
        "model"
      ],
      "metadata": {
        "colab": {
          "base_uri": "https://localhost:8080/"
        },
        "id": "6pjQgeOowLCB",
        "outputId": "1c982ab4-fd68-4995-8f12-0b9142359813"
      },
      "execution_count": null,
      "outputs": [
        {
          "output_type": "execute_result",
          "data": {
            "text/plain": [
              "Net(\n",
              "  (initial_conv): Conv2d(3, 64, kernel_size=(7, 7), stride=(2, 2), padding=(1, 1))\n",
              "  (relu): ReLU(inplace=True)\n",
              "  (initial_pool): MaxPool2d(kernel_size=2, stride=2, padding=0, dilation=1, ceil_mode=False)\n",
              "  (avgpool): AvgPool2d(kernel_size=(7, 7), stride=(7, 7), padding=0)\n",
              "  (fc): Linear(in_features=512, out_features=1000, bias=True)\n",
              ")"
            ]
          },
          "metadata": {},
          "execution_count": 87
        }
      ]
    },
    {
      "cell_type": "code",
      "source": [
        "nn.Conv2d(3 , 64 , kernel_size = 7 , stride = 2 , padding = 1)(img).shape"
      ],
      "metadata": {
        "colab": {
          "base_uri": "https://localhost:8080/"
        },
        "id": "3iYQexqEjHWB",
        "outputId": "1ea1316f-6eeb-4ce9-8607-544b317a7c67"
      },
      "execution_count": null,
      "outputs": [
        {
          "output_type": "execute_result",
          "data": {
            "text/plain": [
              "torch.Size([1, 64, 110, 110])"
            ]
          },
          "metadata": {},
          "execution_count": 20
        }
      ]
    },
    {
      "cell_type": "code",
      "source": [],
      "metadata": {
        "id": "HPckBaENjvGJ"
      },
      "execution_count": null,
      "outputs": []
    }
  ]
}